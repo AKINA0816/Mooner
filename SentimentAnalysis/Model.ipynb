{
 "cells": [
  {
   "cell_type": "code",
   "execution_count": 1,
   "metadata": {},
   "outputs": [],
   "source": [
    "import os\n",
    "import pickle\n",
    "import numpy as np\n",
    "import pandas as pd\n",
    "import tensorflow as tf"
   ]
  },
  {
   "cell_type": "code",
   "execution_count": 2,
   "metadata": {},
   "outputs": [
    {
     "name": "stdout",
     "output_type": "stream",
     "text": [
      "2.1.0\n",
      "[PhysicalDevice(name='/physical_device:GPU:0', device_type='GPU')]\n"
     ]
    }
   ],
   "source": [
    "print(tf.__version__)\n",
    "print(tf.config.list_physical_devices('GPU'))"
   ]
  },
  {
   "cell_type": "markdown",
   "metadata": {},
   "source": [
    "## Load Data"
   ]
  },
  {
   "cell_type": "code",
   "execution_count": 3,
   "metadata": {},
   "outputs": [],
   "source": [
    "with open(os.path.join(\"dataset\", \"sentiment140\", \"data.pickle\"), \"rb\") as inFile:\n",
    "    data = pickle.load(inFile)\n",
    "X_train = data[0]\n",
    "y_train = data[1]\n",
    "tokenizer = data[2]"
   ]
  },
  {
   "cell_type": "code",
   "execution_count": 4,
   "metadata": {},
   "outputs": [],
   "source": [
    "PAD_MAXLEN = 45\n",
    "MAX_FEATURES = 20000"
   ]
  },
  {
   "cell_type": "code",
   "execution_count": 5,
   "metadata": {},
   "outputs": [],
   "source": [
    "import re\n",
    "from nltk.stem.snowball import SnowballStemmer\n",
    "stemmer = SnowballStemmer(\"english\")\n",
    "ch_range = list(range(97, 123)) + list(range(65, 91)) + [ord(' '), ord('\\'')]\n",
    "def process_str(raw_string):\n",
    "    global ch_range\n",
    "    global stemmer\n",
    "    # first remove url, @username, etc\n",
    "    raw_string = re.sub(r\"@([A-Z]|[a-z]|[0-9]|_)+\", \"\", raw_string)\n",
    "    raw_string = re.sub(r\"(http|https)://([A-Z]|[a-z]|[0-9]|/|\\.)+\", \"\", raw_string)\n",
    "    # remove characters other than [a-z][A-Z][0-9]['!?] or empty space\n",
    "    new_string = \"\".join([ch.lower() if ord(ch) in ch_range else ' ' for ch in list(raw_string)])\n",
    "    # remove extra space, and also convert plural form to singular\n",
    "    new_string = new_string.strip()\n",
    "    new_string = \" \".join([stemmer.stem(word) for word in new_string.split()])\n",
    "    return new_string"
   ]
  },
  {
   "cell_type": "markdown",
   "metadata": {},
   "source": [
    "## Get Mini Data for Experiment"
   ]
  },
  {
   "cell_type": "code",
   "execution_count": 6,
   "metadata": {},
   "outputs": [
    {
     "name": "stdout",
     "output_type": "stream",
     "text": [
      "(159636, 45) (159636,)\n"
     ]
    }
   ],
   "source": [
    "from sklearn.model_selection import train_test_split\n",
    "_, X_train_mini, _, y_train_mini = train_test_split(X_train, y_train, test_size=0.1)\n",
    "print(X_train_mini.shape, y_train_mini.shape)"
   ]
  },
  {
   "cell_type": "markdown",
   "metadata": {},
   "source": [
    "## Create Model"
   ]
  },
  {
   "cell_type": "code",
   "execution_count": 16,
   "metadata": {},
   "outputs": [
    {
     "name": "stdout",
     "output_type": "stream",
     "text": [
      "Model: \"sequential\"\n",
      "_________________________________________________________________\n",
      "Layer (type)                 Output Shape              Param #   \n",
      "=================================================================\n",
      "embedding (Embedding)        (None, 45, 128)           2560000   \n",
      "_________________________________________________________________\n",
      "dropout (Dropout)            (None, 45, 128)           0         \n",
      "_________________________________________________________________\n",
      "conv1d (Conv1D)              (None, 41, 256)           164096    \n",
      "_________________________________________________________________\n",
      "global_max_pooling1d (Global (None, 256)               0         \n",
      "_________________________________________________________________\n",
      "dense (Dense)                (None, 200)               51400     \n",
      "_________________________________________________________________\n",
      "dropout_1 (Dropout)          (None, 200)               0         \n",
      "_________________________________________________________________\n",
      "dense_1 (Dense)              (None, 1)                 201       \n",
      "=================================================================\n",
      "Total params: 2,775,697\n",
      "Trainable params: 2,775,697\n",
      "Non-trainable params: 0\n",
      "_________________________________________________________________\n",
      "Train on 957811 samples, validate on 638542 samples\n",
      "Epoch 1/5\n",
      "957811/957811 [==============================] - 299s 313us/sample - loss: 0.4185 - accuracy: 0.8073 - val_loss: 0.3899 - val_accuracy: 0.8234\n",
      "Epoch 2/5\n",
      "957811/957811 [==============================] - 306s 319us/sample - loss: 0.3714 - accuracy: 0.8344 - val_loss: 0.3880 - val_accuracy: 0.8258\n",
      "Epoch 3/5\n",
      "957811/957811 [==============================] - 308s 322us/sample - loss: 0.3435 - accuracy: 0.8491 - val_loss: 0.3914 - val_accuracy: 0.8266\n",
      "Epoch 4/5\n",
      "957811/957811 [==============================] - 315s 329us/sample - loss: 0.3184 - accuracy: 0.8619 - val_loss: 0.4026 - val_accuracy: 0.8253\n",
      "Epoch 5/5\n",
      "957811/957811 [==============================] - 324s 339us/sample - loss: 0.2969 - accuracy: 0.8725 - val_loss: 0.4233 - val_accuracy: 0.8219\n"
     ]
    },
    {
     "data": {
      "text/plain": [
       "<tensorflow.python.keras.callbacks.History at 0x19f96a01c18>"
      ]
     },
     "execution_count": 16,
     "metadata": {},
     "output_type": "execute_result"
    }
   ],
   "source": [
    "tf.keras.backend.clear_session()\n",
    "\n",
    "model = tf.keras.Sequential()\n",
    "model.add(tf.keras.layers.Embedding(MAX_FEATURES, 128, input_length=PAD_MAXLEN))\n",
    "model.add(tf.keras.layers.Dropout(0.2))\n",
    "model.add(tf.keras.layers.Conv1D(256, 5, padding='valid', activation='relu', strides=1))\n",
    "#model.add(tf.keras.layers.MaxPooling1D(pool_size=4))\n",
    "model.add(tf.keras.layers.GlobalMaxPooling1D())\n",
    "#model.add(tf.keras.layers.LSTM(70))\n",
    "model.add(tf.keras.layers.Dense(200, activation=\"relu\"))\n",
    "model.add(tf.keras.layers.Dropout(0.2))\n",
    "model.add(tf.keras.layers.Dense(1, activation=\"sigmoid\"))\n",
    "model.compile(loss=\"binary_crossentropy\",\n",
    "              optimizer=tf.keras.optimizers.Adam(learning_rate=0.0005),\n",
    "              #optimizer=tf.keras.optimizers.RMSprop(learning_rate=0.001),\n",
    "              metrics=['accuracy'])\n",
    "model.summary()\n",
    "\n",
    "model.fit(X_train, y_train, batch_size=64, epochs=5, validation_split=0.4, verbose=1)"
   ]
  },
  {
   "cell_type": "code",
   "execution_count": 17,
   "metadata": {},
   "outputs": [],
   "source": [
    "if not os.path.exists(\"models\"):\n",
    "    os.makedirs(\"models\")\n",
    "model.save(os.path.join(\"models\", \"cnn.h5\"), save_format=\"tf\")"
   ]
  }
 ],
 "metadata": {
  "kernelspec": {
   "display_name": "Python 3",
   "language": "python",
   "name": "python3"
  },
  "language_info": {
   "codemirror_mode": {
    "name": "ipython",
    "version": 3
   },
   "file_extension": ".py",
   "mimetype": "text/x-python",
   "name": "python",
   "nbconvert_exporter": "python",
   "pygments_lexer": "ipython3",
   "version": "3.6.8"
  }
 },
 "nbformat": 4,
 "nbformat_minor": 4
}
